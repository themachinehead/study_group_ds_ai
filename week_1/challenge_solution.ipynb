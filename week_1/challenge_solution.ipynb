{
  "nbformat": 4,
  "nbformat_minor": 0,
  "metadata": {
    "colab": {
      "name": "challenge.ipynb",
      "provenance": [],
      "collapsed_sections": [],
      "toc_visible": true,
      "include_colab_link": true
    },
    "kernelspec": {
      "name": "python3",
      "display_name": "Python 3"
    }
  },
  "cells": [
    {
      "cell_type": "markdown",
      "metadata": {
        "id": "view-in-github",
        "colab_type": "text"
      },
      "source": [
        "<a href=\"https://colab.research.google.com/github/themachineheadbr/study_group_ds_ai/blob/main/week_1/challenge_solution.ipynb\" target=\"_parent\"><img src=\"https://colab.research.google.com/assets/colab-badge.svg\" alt=\"Open In Colab\"/></a>"
      ]
    },
    {
      "cell_type": "markdown",
      "metadata": {
        "id": "mBbZTrWYH-HC"
      },
      "source": [
        "## **Lei de Benford**\n",
        "\n",
        "A lei de Benford, também chamada de lei do primeiro dígito, lei de Newcomb-Benford e lei números anômalos refere-se à distribuição de dígitos em várias fontes de casos reais. Ao contrário da homogeneidade esperada, a lei afirma que em muitas coleções de números que ocorrem naturalmente, o primeiro dígito significativo provavelmente será pequeno. Sem homogeneidade, esta distribuição mostra que o dígito 1 tem 30% de chance de aparecer em um conjunto de dados estatísticos enquanto valores maiores tem menos possibilidade de aparecer.\n",
        "\n",
        "Frank Benford demonstrou que esse resultado se aplica a uma ampla variedade de conjuntos de dados, incluindo contas de eletricidade, endereços, preços de ações, preços de casas, números de população, taxas de mortalidade, comprimentos de rios, constantes físicas e matemáticas. pelas leis de potência (que são muito comuns na natureza). Todas essas afirmações são calculadas ou definidas junto a uma escala logarítmica.\n",
        "\n",
        "![800px-Rozklad_benforda (2).png](data:image/png;base64,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)\n",
        "\n",
        "Origem: Wikipédia, a enciclopédia livre.\n",
        "\n",
        "Link: https://pt.wikipedia.org/wiki/Lei_de_Benford"
      ]
    },
    {
      "cell_type": "markdown",
      "metadata": {
        "id": "degJQ7nNMEeT"
      },
      "source": [
        "## **Desafio #1**\n",
        "\n",
        "Utilizando a biblioteca NumPy, baixe e leia o arquivo [**cities.csv**](https://drive.google.com/file/d/1OK7bF-nep68LGbnmpK2s1T_JNAa2VrPg/view) com o número da população de cada município Brasileiro e verifique se o conjunto de dados segue a Lei de Benford, gerando um gráfico como no exemplo **#Plotting** com o percentual da frequência de cada número no conjunto de dados. \n",
        "\n"
      ]
    },
    {
      "cell_type": "markdown",
      "metadata": {
        "id": "TCgE9ufaB7l6"
      },
      "source": [
        "## **#Plotting**"
      ]
    },
    {
      "cell_type": "code",
      "metadata": {
        "id": "1HwoMPFr-ev5"
      },
      "source": [
        "import matplotlib.pyplot as plt\n",
        "# %matplotlib inline\n",
        "\n",
        "# data = {'1': 30.1, '2': 17.6, '3': 12.5, '4': 9.7, '5': 7.9, '6': 6.7, '7': 5.8, '8': 5.1, '9': 4.6}\n",
        "# names = list(data.keys())\n",
        "# values = list(data.values())\n",
        "\n",
        "# fig, axs = plt.subplots()\n",
        "# axs.bar(names, values)\n",
        "\n",
        "# fig.suptitle('Rozkland Benford')\n"
      ],
      "execution_count": 63,
      "outputs": []
    },
    {
      "cell_type": "code",
      "metadata": {
        "id": "yKr5agcY53WQ"
      },
      "source": [
        "import pandas as pd\n",
        "import numpy as np"
      ],
      "execution_count": 64,
      "outputs": []
    },
    {
      "cell_type": "code",
      "metadata": {
        "id": "_o7vpmV05Drp"
      },
      "source": [
        "data_csv_link = 'https://raw.githubusercontent.com/themachineheadbr/study_group_ds_ai/main/week_1/data/cities.csv'\n"
      ],
      "execution_count": 65,
      "outputs": []
    },
    {
      "cell_type": "code",
      "metadata": {
        "id": "esK_gyMh6G07"
      },
      "source": [
        "df = pd.read_csv(data_csv_link)"
      ],
      "execution_count": 66,
      "outputs": []
    },
    {
      "cell_type": "code",
      "metadata": {
        "id": "U7-JLR66_Mbt",
        "outputId": "5ec571e6-c172-4e5d-c207-196b32c6dc6b",
        "colab": {
          "base_uri": "https://localhost:8080/",
          "height": 204
        }
      },
      "source": [
        "df.head()"
      ],
      "execution_count": 67,
      "outputs": [
        {
          "output_type": "execute_result",
          "data": {
            "text/html": [
              "<div>\n",
              "<style scoped>\n",
              "    .dataframe tbody tr th:only-of-type {\n",
              "        vertical-align: middle;\n",
              "    }\n",
              "\n",
              "    .dataframe tbody tr th {\n",
              "        vertical-align: top;\n",
              "    }\n",
              "\n",
              "    .dataframe thead th {\n",
              "        text-align: right;\n",
              "    }\n",
              "</style>\n",
              "<table border=\"1\" class=\"dataframe\">\n",
              "  <thead>\n",
              "    <tr style=\"text-align: right;\">\n",
              "      <th></th>\n",
              "      <th>Populacao</th>\n",
              "    </tr>\n",
              "  </thead>\n",
              "  <tbody>\n",
              "    <tr>\n",
              "      <th>0</th>\n",
              "      <td>24392</td>\n",
              "    </tr>\n",
              "    <tr>\n",
              "      <th>1</th>\n",
              "      <td>90353</td>\n",
              "    </tr>\n",
              "    <tr>\n",
              "      <th>2</th>\n",
              "      <td>6313</td>\n",
              "    </tr>\n",
              "    <tr>\n",
              "      <th>3</th>\n",
              "      <td>78574</td>\n",
              "    </tr>\n",
              "    <tr>\n",
              "      <th>4</th>\n",
              "      <td>17029</td>\n",
              "    </tr>\n",
              "  </tbody>\n",
              "</table>\n",
              "</div>"
            ],
            "text/plain": [
              "   Populacao\n",
              "0      24392\n",
              "1      90353\n",
              "2       6313\n",
              "3      78574\n",
              "4      17029"
            ]
          },
          "metadata": {
            "tags": []
          },
          "execution_count": 67
        }
      ]
    },
    {
      "cell_type": "code",
      "metadata": {
        "id": "PAyTA-kW6niH",
        "outputId": "f9e87b1a-f022-461d-e17e-6fc23fbd1040",
        "colab": {
          "base_uri": "https://localhost:8080/",
          "height": 297
        }
      },
      "source": [
        "df.describe()"
      ],
      "execution_count": 68,
      "outputs": [
        {
          "output_type": "execute_result",
          "data": {
            "text/html": [
              "<div>\n",
              "<style scoped>\n",
              "    .dataframe tbody tr th:only-of-type {\n",
              "        vertical-align: middle;\n",
              "    }\n",
              "\n",
              "    .dataframe tbody tr th {\n",
              "        vertical-align: top;\n",
              "    }\n",
              "\n",
              "    .dataframe thead th {\n",
              "        text-align: right;\n",
              "    }\n",
              "</style>\n",
              "<table border=\"1\" class=\"dataframe\">\n",
              "  <thead>\n",
              "    <tr style=\"text-align: right;\">\n",
              "      <th></th>\n",
              "      <th>Populacao</th>\n",
              "    </tr>\n",
              "  </thead>\n",
              "  <tbody>\n",
              "    <tr>\n",
              "      <th>count</th>\n",
              "      <td>5.565000e+03</td>\n",
              "    </tr>\n",
              "    <tr>\n",
              "      <th>mean</th>\n",
              "      <td>3.427777e+04</td>\n",
              "    </tr>\n",
              "    <tr>\n",
              "      <th>std</th>\n",
              "      <td>2.031126e+05</td>\n",
              "    </tr>\n",
              "    <tr>\n",
              "      <th>min</th>\n",
              "      <td>8.050000e+02</td>\n",
              "    </tr>\n",
              "    <tr>\n",
              "      <th>25%</th>\n",
              "      <td>5.235000e+03</td>\n",
              "    </tr>\n",
              "    <tr>\n",
              "      <th>50%</th>\n",
              "      <td>1.093400e+04</td>\n",
              "    </tr>\n",
              "    <tr>\n",
              "      <th>75%</th>\n",
              "      <td>2.342400e+04</td>\n",
              "    </tr>\n",
              "    <tr>\n",
              "      <th>max</th>\n",
              "      <td>1.125350e+07</td>\n",
              "    </tr>\n",
              "  </tbody>\n",
              "</table>\n",
              "</div>"
            ],
            "text/plain": [
              "          Populacao\n",
              "count  5.565000e+03\n",
              "mean   3.427777e+04\n",
              "std    2.031126e+05\n",
              "min    8.050000e+02\n",
              "25%    5.235000e+03\n",
              "50%    1.093400e+04\n",
              "75%    2.342400e+04\n",
              "max    1.125350e+07"
            ]
          },
          "metadata": {
            "tags": []
          },
          "execution_count": 68
        }
      ]
    },
    {
      "cell_type": "code",
      "metadata": {
        "id": "L9L99ak-6va-",
        "outputId": "3d17b6f4-7811-4222-93a0-fb3083be8784",
        "colab": {
          "base_uri": "https://localhost:8080/"
        }
      },
      "source": [
        "df.info()"
      ],
      "execution_count": 69,
      "outputs": [
        {
          "output_type": "stream",
          "text": [
            "<class 'pandas.core.frame.DataFrame'>\n",
            "RangeIndex: 5565 entries, 0 to 5564\n",
            "Data columns (total 1 columns):\n",
            " #   Column     Non-Null Count  Dtype\n",
            "---  ------     --------------  -----\n",
            " 0   Populacao  5565 non-null   int64\n",
            "dtypes: int64(1)\n",
            "memory usage: 43.6 KB\n"
          ],
          "name": "stdout"
        }
      ]
    },
    {
      "cell_type": "code",
      "metadata": {
        "id": "hm70ieqY6zHX",
        "outputId": "fe6d03e0-1371-4a71-e725-5a63ea850d31",
        "colab": {
          "base_uri": "https://localhost:8080/"
        }
      },
      "source": [
        "df.dtypes"
      ],
      "execution_count": 70,
      "outputs": [
        {
          "output_type": "execute_result",
          "data": {
            "text/plain": [
              "Populacao    int64\n",
              "dtype: object"
            ]
          },
          "metadata": {
            "tags": []
          },
          "execution_count": 70
        }
      ]
    },
    {
      "cell_type": "code",
      "metadata": {
        "id": "xO4usOAg8tki",
        "outputId": "0812a263-9ffe-45c9-c3aa-8f993a852a5e",
        "colab": {
          "base_uri": "https://localhost:8080/",
          "height": 511
        }
      },
      "source": [
        "plt.figure(figsize=(15,8))\n",
        "plt.plot(df)"
      ],
      "execution_count": 71,
      "outputs": [
        {
          "output_type": "execute_result",
          "data": {
            "text/plain": [
              "[<matplotlib.lines.Line2D at 0x7f33dd25f810>]"
            ]
          },
          "metadata": {
            "tags": []
          },
          "execution_count": 71
        },
        {
          "output_type": "display_data",
          "data": {
            "image/png": "[encoded data removed]",
            "text/plain": [
              "<Figure size 1080x576 with 1 Axes>"
            ]
          },
          "metadata": {
            "tags": [],
            "needs_background": "light"
          }
        }
      ]
    },
    {
      "cell_type": "code",
      "metadata": {
        "id": "FV9x73ts_YrC"
      },
      "source": [
        "sum = {\n",
        "    '1': 0,\n",
        "    '2': 0,\n",
        "    '3': 0,\n",
        "    '4': 0,\n",
        "    '5': 0,\n",
        "    '6': 0,\n",
        "    '7': 0,\n",
        "    '8': 0,\n",
        "    '9': 0\n",
        "}\n",
        "\n",
        "for entry in df['Populacao']:\n",
        "  first_digit = str(entry)[0]\n",
        "  sum[first_digit]+= 1\n",
        "  "
      ],
      "execution_count": 72,
      "outputs": []
    },
    {
      "cell_type": "code",
      "metadata": {
        "id": "8jD1kEYdAKwt",
        "outputId": "446e57a1-eba9-4b15-d8f8-14d34b487816",
        "colab": {
          "base_uri": "https://localhost:8080/"
        }
      },
      "source": [
        "sum"
      ],
      "execution_count": 73,
      "outputs": [
        {
          "output_type": "execute_result",
          "data": {
            "text/plain": [
              "{'1': 1676,\n",
              " '2': 1025,\n",
              " '3': 739,\n",
              " '4': 562,\n",
              " '5': 440,\n",
              " '6': 392,\n",
              " '7': 316,\n",
              " '8': 265,\n",
              " '9': 150}"
            ]
          },
          "metadata": {
            "tags": []
          },
          "execution_count": 73
        }
      ]
    },
    {
      "cell_type": "code",
      "metadata": {
        "id": "a_xSZQmnBGOl"
      },
      "source": [
        "total_values = df['Populacao'].size\n",
        "percentages = pd.DataFrame(list(sum.items()),columns=['Number', 'Freq'])\n",
        "percentages['Percentage'] = (percentages['Freq'] / percentages['Freq'].sum()) * 100"
      ],
      "execution_count": 74,
      "outputs": []
    },
    {
      "cell_type": "code",
      "metadata": {
        "id": "VmhkuxycD34J",
        "outputId": "aa67ef2a-17a5-4e2e-c593-da6cb452cd3b",
        "colab": {
          "base_uri": "https://localhost:8080/",
          "height": 328
        }
      },
      "source": [
        "percentages"
      ],
      "execution_count": 75,
      "outputs": [
        {
          "output_type": "execute_result",
          "data": {
            "text/html": [
              "<div>\n",
              "<style scoped>\n",
              "    .dataframe tbody tr th:only-of-type {\n",
              "        vertical-align: middle;\n",
              "    }\n",
              "\n",
              "    .dataframe tbody tr th {\n",
              "        vertical-align: top;\n",
              "    }\n",
              "\n",
              "    .dataframe thead th {\n",
              "        text-align: right;\n",
              "    }\n",
              "</style>\n",
              "<table border=\"1\" class=\"dataframe\">\n",
              "  <thead>\n",
              "    <tr style=\"text-align: right;\">\n",
              "      <th></th>\n",
              "      <th>Number</th>\n",
              "      <th>Freq</th>\n",
              "      <th>Percentage</th>\n",
              "    </tr>\n",
              "  </thead>\n",
              "  <tbody>\n",
              "    <tr>\n",
              "      <th>0</th>\n",
              "      <td>1</td>\n",
              "      <td>1676</td>\n",
              "      <td>30.116801</td>\n",
              "    </tr>\n",
              "    <tr>\n",
              "      <th>1</th>\n",
              "      <td>2</td>\n",
              "      <td>1025</td>\n",
              "      <td>18.418688</td>\n",
              "    </tr>\n",
              "    <tr>\n",
              "      <th>2</th>\n",
              "      <td>3</td>\n",
              "      <td>739</td>\n",
              "      <td>13.279425</td>\n",
              "    </tr>\n",
              "    <tr>\n",
              "      <th>3</th>\n",
              "      <td>4</td>\n",
              "      <td>562</td>\n",
              "      <td>10.098832</td>\n",
              "    </tr>\n",
              "    <tr>\n",
              "      <th>4</th>\n",
              "      <td>5</td>\n",
              "      <td>440</td>\n",
              "      <td>7.906559</td>\n",
              "    </tr>\n",
              "    <tr>\n",
              "      <th>5</th>\n",
              "      <td>6</td>\n",
              "      <td>392</td>\n",
              "      <td>7.044025</td>\n",
              "    </tr>\n",
              "    <tr>\n",
              "      <th>6</th>\n",
              "      <td>7</td>\n",
              "      <td>316</td>\n",
              "      <td>5.678347</td>\n",
              "    </tr>\n",
              "    <tr>\n",
              "      <th>7</th>\n",
              "      <td>8</td>\n",
              "      <td>265</td>\n",
              "      <td>4.761905</td>\n",
              "    </tr>\n",
              "    <tr>\n",
              "      <th>8</th>\n",
              "      <td>9</td>\n",
              "      <td>150</td>\n",
              "      <td>2.695418</td>\n",
              "    </tr>\n",
              "  </tbody>\n",
              "</table>\n",
              "</div>"
            ],
            "text/plain": [
              "  Number  Freq  Percentage\n",
              "0      1  1676   30.116801\n",
              "1      2  1025   18.418688\n",
              "2      3   739   13.279425\n",
              "3      4   562   10.098832\n",
              "4      5   440    7.906559\n",
              "5      6   392    7.044025\n",
              "6      7   316    5.678347\n",
              "7      8   265    4.761905\n",
              "8      9   150    2.695418"
            ]
          },
          "metadata": {
            "tags": []
          },
          "execution_count": 75
        }
      ]
    },
    {
      "cell_type": "code",
      "metadata": {
        "id": "F13pf7nXEoHc",
        "outputId": "bd73e8c2-d5eb-4ef1-ee1f-fbb041e8705b",
        "colab": {
          "base_uri": "https://localhost:8080/",
          "height": 279
        }
      },
      "source": [
        "ax = percentages.plot.bar(x='Number', y='Percentage', rot=0)"
      ],
      "execution_count": 86,
      "outputs": [
        {
          "output_type": "display_data",
          "data": {
            "image/png": "[encoded data removed]",
            "text/plain": [
              "<Figure size 432x288 with 1 Axes>"
            ]
          },
          "metadata": {
            "tags": [],
            "needs_background": "light"
          }
        }
      ]
    }
  ]
}