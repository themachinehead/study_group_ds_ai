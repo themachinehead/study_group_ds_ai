{
  "nbformat": 4,
  "nbformat_minor": 0,
  "metadata": {
    "colab": {
      "name": "stack_np_array.ipynb",
      "provenance": [],
      "collapsed_sections": [],
      "authorship_tag": "ABX9TyPRo8H7eBOahuaA7IdhHsZ5",
      "include_colab_link": true
    },
    "kernelspec": {
      "name": "python3",
      "display_name": "Python 3"
    }
  },
  "cells": [
    {
      "cell_type": "markdown",
      "metadata": {
        "id": "view-in-github",
        "colab_type": "text"
      },
      "source": [
        "<a href=\"https://colab.research.google.com/github/themachineheadbr/study_group_ds_ai/blob/main/week_1/stack_np_array.ipynb\" target=\"_parent\"><img src=\"https://colab.research.google.com/assets/colab-badge.svg\" alt=\"Open In Colab\"/></a>"
      ]
    },
    {
      "cell_type": "code",
      "metadata": {
        "id": "-Reu0HPv1GWb"
      },
      "source": [
        "import numpy as np"
      ],
      "execution_count": 2,
      "outputs": []
    },
    {
      "cell_type": "code",
      "metadata": {
        "id": "2lRNt10v_G-b"
      },
      "source": [
        "class Stack():\n",
        "    def __init__(self):\n",
        "      self.array = np.zeros([0,])\n",
        "\n",
        "    def insert(self, value):\n",
        "      self.array = np.append(self.array, value)\n",
        "\n",
        "    def delete(self):\n",
        "      self.array = np.delete(self.array, -1)\n",
        "      "
      ],
      "execution_count": 123,
      "outputs": []
    },
    {
      "cell_type": "code",
      "metadata": {
        "id": "rb-SLMUfCpMb"
      },
      "source": [
        "stack = Stack()\n",
        "stack_2 = Stack()"
      ],
      "execution_count": 124,
      "outputs": []
    },
    {
      "cell_type": "code",
      "metadata": {
        "id": "CUWdXneBCsj1"
      },
      "source": [
        "stack.insert(1.0)\n",
        "stack.insert(2.0)\n",
        "stack.insert(3.0)\n",
        "stack.insert(4.0)"
      ],
      "execution_count": 129,
      "outputs": []
    },
    {
      "cell_type": "code",
      "metadata": {
        "colab": {
          "base_uri": "https://localhost:8080/"
        },
        "id": "3MOMn7_8Dk_Y",
        "outputId": "b751621d-724c-4f8c-afe4-e764cdbc69b5"
      },
      "source": [
        "stack.array"
      ],
      "execution_count": 130,
      "outputs": [
        {
          "output_type": "execute_result",
          "data": {
            "text/plain": [
              "array([1., 2., 3., 4.])"
            ]
          },
          "metadata": {
            "tags": []
          },
          "execution_count": 130
        }
      ]
    },
    {
      "cell_type": "code",
      "metadata": {
        "id": "ODyGXT1wEyOq"
      },
      "source": [
        "stack.delete()"
      ],
      "execution_count": 131,
      "outputs": []
    },
    {
      "cell_type": "code",
      "metadata": {
        "colab": {
          "base_uri": "https://localhost:8080/"
        },
        "id": "eJK1oZKRE1NF",
        "outputId": "a722df5e-0957-4b77-93ef-643b914c4346"
      },
      "source": [
        "stack.array"
      ],
      "execution_count": 132,
      "outputs": [
        {
          "output_type": "execute_result",
          "data": {
            "text/plain": [
              "array([1., 2., 3.])"
            ]
          },
          "metadata": {
            "tags": []
          },
          "execution_count": 132
        }
      ]
    }
  ]
}